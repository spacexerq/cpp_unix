{
 "cells": [
  {
   "cell_type": "markdown",
   "id": "9deb8e4e-9eab-4e25-a5a7-8929ca4a4356",
   "metadata": {},
   "source": [
    "# Report. Lab1"
   ]
  },
  {
   "cell_type": "markdown",
   "id": "dcfec1d4-456b-4bde-8fc2-d19ba658c679",
   "metadata": {
    "tags": []
   },
   "source": [
    "### Task 1\n",
    "\n",
    "cd /\\\n",
    "cd usr\\\n",
    "cd local\\\n",
    "sudo mkdir folder_max\\\n",
    "sudo mkdir folder_min\\\n",
    "ls"
   ]
  },
  {
   "cell_type": "markdown",
   "id": "c6278d8e-c1aa-4414-9f29-f8141178f646",
   "metadata": {},
   "source": [
    "### Task 2\n",
    "sudo groupadd group_max\\\n",
    "sudo groupadd group_min"
   ]
  },
  {
   "cell_type": "markdown",
   "id": "cdbd0cab-a317-4737-a6ac-6f6a158ae3dc",
   "metadata": {},
   "source": [
    "### Task 3\n",
    "sudo useradd user_max_1\\\n",
    "sudo useradd user_min_1"
   ]
  },
  {
   "cell_type": "markdown",
   "id": "cc47d11f-2916-49b2-9b58-d52e9f238858",
   "metadata": {},
   "source": [
    "### Task 4\n",
    "\n",
    "sudo chown :group_min folder_min\\\n",
    "sudo chown :group_max folder_max\n",
    "\n",
    "sudo usermod -g group_max spacexer\\\n",
    "sudo chmod g+rwx folder_min\\\n",
    "\n",
    "sudo usermod -g group_min spacexer\\\n",
    "sudo chmod g+rwx folder_min"
   ]
  },
  {
   "cell_type": "markdown",
   "id": "8e8cb817-6eaf-423e-9881-2d7f1394783f",
   "metadata": {},
   "source": [
    "### Task 5\n",
    "\n"
   ]
  },
  {
   "cell_type": "markdown",
   "id": "f1096120-38e3-4bc3-acf9-66688cd91ea1",
   "metadata": {},
   "source": [
    "### Task 6\n"
   ]
  },
  {
   "cell_type": "markdown",
   "id": "7db93b12-5057-42cf-b57a-fdf40705e09c",
   "metadata": {},
   "source": [
    "### Task 7\n"
   ]
  },
  {
   "cell_type": "markdown",
   "id": "b2b48e78-b1a4-4e95-817f-2d65d8ca7786",
   "metadata": {},
   "source": [
    "### Task 8\n",
    "some check for the updates on git\n",
    "minor updates"
   ]
  },
  {
   "cell_type": "markdown",
   "id": "43ce7fcb-bfee-44f4-bbe4-9d59fd55991d",
   "metadata": {},
   "source": [
    "### Task 9 \n",
    "\n",
    "git clone https://github.com/spacexerq/cpp_unix.git\n",
    "cd cpp_unix\n",
    "cd lab_01\n",
    "cd build\n",
    "git add README.md\n",
    "git commit -m \"initial\n",
    "cd..\n",
    "cd cmake\n",
    "git add README.md\n",
    "git commit -m \"initial\"\n",
    "cd ..\n",
    "cd doc\n",
    "git add README.md\n",
    "git commit -m \"initial\"\n",
    "cd ..\n",
    "cd src\n",
    "git add README.md\n",
    "git commit -m \"initial\"\n",
    "cd ..\n",
    "\n",
    "git branch -M dev\n",
    "git push origin dev\n",
    "\n",
    "git branch stg\n",
    "git push origin stg\n",
    "\n",
    "git branch prd\n",
    "git push origin prd\n",
    "\n",
    "git push origin --delete main"
   ]
  }
 ],
 "metadata": {
  "kernelspec": {
   "display_name": "Python 3 (ipykernel)",
   "language": "python",
   "name": "python3"
  },
  "language_info": {
   "codemirror_mode": {
    "name": "ipython",
    "version": 3
   },
   "file_extension": ".py",
   "mimetype": "text/x-python",
   "name": "python",
   "nbconvert_exporter": "python",
   "pygments_lexer": "ipython3",
   "version": "3.10.11"
  }
 },
 "nbformat": 4,
 "nbformat_minor": 5
}
